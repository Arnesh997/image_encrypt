{
 "cells": [
  {
   "cell_type": "code",
   "execution_count": null,
   "metadata": {},
   "outputs": [],
   "source": [
    "from PIL import Image\n",
    "import numpy as np\n",
    "import os\n",
    "import matplotlib.pyplot as plt\n",
    "import cv2 as cv\n",
    "from math import log"
   ]
  },
  {
   "cell_type": "code",
   "execution_count": null,
   "metadata": {},
   "outputs": [],
   "source": [
    "def imgMatrix(image):\n",
    "    im = Image.open(image)\n",
    "    pix = im.load()\n",
    "    color = 1\n",
    "    if type(pix[0,0]) == int:\n",
    "        color = 0\n",
    "    image_size = im.size\n",
    "    image_matrix =[]\n",
    "    for width in range(int(image_size[0])):\n",
    "        row = []\n",
    "        for height in range(int(image_size[1])):\n",
    "            row.append((pix[width,height]))\n",
    "        image_matrix.append(row)\n",
    "    \n",
    "    return image_matrix, image_size[0], image_size[1], color\n",
    "    "
   ]
  },
  {
   "cell_type": "code",
   "execution_count": null,
   "metadata": {},
   "outputs": [],
   "source": [
    "def getImageMatrix_gray(image):\n",
    "    im = Image.open(image).convert('LA')\n",
    "    pix = im.load()\n",
    "    image_size = im.size \n",
    "    image_matrix = []\n",
    "    for width in range(int(image_size[0])):\n",
    "        row = []\n",
    "        for height in range(int(image_size[1])):\n",
    "                row.append((pix[width,height]))\n",
    "        image_matrix.append(row)\n",
    "    return image_matrix, image_size[0], image_size[1],color"
   ]
  },
  {
   "cell_type": "code",
   "execution_count": null,
   "metadata": {},
   "outputs": [],
   "source": [
    "def ArnoldCatTransform(img,num):\n",
    "    rows,cols,ch = img.shape\n",
    "    n = rows\n",
    "    img_arnold = np.zeros([rows,cols,ch])\n",
    "    for x in range(0,rows):\n",
    "        for y in range(0, cols):\n",
    "            img_arnold[x][y] = img[(x+y)%n][(x+2*y)%n]\n",
    "    return img_arnold"
   ]
  },
  {
   "cell_type": "code",
   "execution_count": null,
   "metadata": {},
   "outputs": [],
   "source": [
    "def ArnoldCatEncrypt(image, key):\n",
    "    img = cv.imread(image)\n",
    "    for  i in range(0,key):\n",
    "        img = ArnoldCatTransform(img,i)\n",
    "\n",
    "    return img "
   ]
  },
  {
   "cell_type": "code",
   "execution_count": null,
   "metadata": {},
   "outputs": [],
   "source": [
    "def ArnoldCatDecryption(image, key):\n",
    "    img = cv.imread(image)\n",
    "    rows, cols, ch = img.shape\n",
    "    dimension = rows\n",
    "    decrypt_it = dimension\n",
    "    if (dimension%2==0) and 5**int(round(log(dimension/2,5))) == int(dimension/2):\n",
    "        decrypt_it = 3*dimension\n",
    "    elif 5**int(round(log(dimension,5))) == int(dimension):\n",
    "        decrypt_it = 2*dimension\n",
    "    elif (dimension%6==0) and  5**int(round(log(dimension/6,5))) == int(dimension/6):\n",
    "        decrypt_it = 2*dimension\n",
    "    else:\n",
    "        decrypt_it = int(12*dimension/7)\n",
    "    for i in range(key,decrypt_it):\n",
    "        img = ArnoldCatTransform(img, i)\n",
    "\n",
    "    return img"
   ]
  },
  {
   "cell_type": "code",
   "execution_count": null,
   "metadata": {},
   "outputs": [],
   "source": [
    "Image = cv.imread('cat.png')\n",
    "cv.imshow('image',Image)\n",
    "cv.waitKey(0)\n",
    "cv.destroyAllWindows()\n",
    "cv.waitKey(1)"
   ]
  },
  {
   "cell_type": "code",
   "execution_count": null,
   "metadata": {},
   "outputs": [],
   "source": [
    "key = 20"
   ]
  },
  {
   "cell_type": "code",
   "execution_count": null,
   "metadata": {},
   "outputs": [],
   "source": [
    "Arnoldimage = ArnoldCatEncrypt('cat.png',key)\n",
    "cv.imwrite('Arnold.png',Arnoldimage)\n",
    "cv.imshow('Encrypted image',Arnoldimage)\n",
    "cv.waitKey(0)\n",
    "cv.destroyAllWindows()\n",
    "cv.waitKey(1)"
   ]
  },
  {
   "cell_type": "code",
   "execution_count": null,
   "metadata": {},
   "outputs": [],
   "source": [
    "ArnoldDecryptimg = ArnoldCatDecryption('Arnold.png', key)\n",
    "cv.imwrite('Real.png',ArnoldDecryptimg)"
   ]
  },
  {
   "cell_type": "code",
   "execution_count": null,
   "metadata": {},
   "outputs": [],
   "source": []
  }
 ],
 "metadata": {
  "kernelspec": {
   "display_name": "img_encryp_env",
   "language": "python",
   "name": "python3"
  },
  "language_info": {
   "codemirror_mode": {
    "name": "ipython",
    "version": 3
   },
   "file_extension": ".py",
   "mimetype": "text/x-python",
   "name": "python",
   "nbconvert_exporter": "python",
   "pygments_lexer": "ipython3",
   "version": "3.9.0"
  },
  "orig_nbformat": 4,
  "vscode": {
   "interpreter": {
    "hash": "5c8d457141e7e4fea10ff0c3b4fe5234e8bfdb5d0389873c052a744374177e0b"
   }
  }
 },
 "nbformat": 4,
 "nbformat_minor": 2
}
